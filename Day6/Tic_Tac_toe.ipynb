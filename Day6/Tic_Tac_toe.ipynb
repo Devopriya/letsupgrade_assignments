{
  "nbformat": 4,
  "nbformat_minor": 0,
  "metadata": {
    "colab": {
      "name": "Tic_Tac_toe.ipynb",
      "provenance": []
    },
    "kernelspec": {
      "name": "python3",
      "display_name": "Python 3"
    },
    "language_info": {
      "name": "python"
    }
  },
  "cells": [
    {
      "cell_type": "code",
      "source": [
        "def fixed_display_board(board):\n",
        "    print('   |   |')\n",
        "    print(' ' + board[7] + ' | ' + board[8] + ' | ' + board[9])\n",
        "    print('   |   |')\n",
        "    print('-----------')\n",
        "    print('   |   |')\n",
        "    print(' ' + board[4] + ' | ' + board[5] + ' | ' + board[6])\n",
        "    print('   |   |')\n",
        "    print('-----------')\n",
        "    print('   |   |')\n",
        "    print(' ' + board[1] + ' | ' + board[2] + ' | ' + board[3])\n",
        "    print('   |   |')\n",
        "    print('-----------')\n",
        "    print('-----------')"
      ],
      "metadata": {
        "id": "JIMkkrw_N7yi"
      },
      "execution_count": 32,
      "outputs": []
    },
    {
      "cell_type": "code",
      "execution_count": 33,
      "metadata": {
        "id": "1lExlT1dKusu"
      },
      "outputs": [],
      "source": [
        "from IPython.display import clear_output\n",
        "\n",
        "def display_board(board):\n",
        "    clear_output()\n",
        "    fixed_display_board(pos_board)  \n",
        "    print('   |   |')\n",
        "    print(' ' + board[7] + ' | ' + board[8] + ' | ' + board[9])\n",
        "    print('   |   |')\n",
        "    print('-----------')\n",
        "    print('   |   |')\n",
        "    print(' ' + board[4] + ' | ' + board[5] + ' | ' + board[6])\n",
        "    print('   |   |')\n",
        "    print('-----------')\n",
        "    print('   |   |')\n",
        "    print(' ' + board[1] + ' | ' + board[2] + ' | ' + board[3])\n",
        "    print('   |   |')"
      ]
    },
    {
      "cell_type": "code",
      "source": [
        "test_board = ['#','1','2','3','4', '5', '6', '7', '8','9']\n",
        "display_board(test_board)"
      ],
      "metadata": {
        "colab": {
          "base_uri": "https://localhost:8080/"
        },
        "id": "SCBZXz9gK_Da",
        "outputId": "cca296b9-ae73-472b-e4f5-dc42cbf75856"
      },
      "execution_count": 7,
      "outputs": [
        {
          "output_type": "stream",
          "name": "stdout",
          "text": [
            "   |   |\n",
            " 7 | 8 | 9\n",
            "   |   |\n",
            "-----------\n",
            "   |   |\n",
            " 4 | 5 | 6\n",
            "   |   |\n",
            "-----------\n",
            "   |   |\n",
            " 1 | 2 | 3\n",
            "   |   |\n"
          ]
        }
      ]
    },
    {
      "cell_type": "code",
      "source": [
        "def player_input():\n",
        "    marker = ''\n",
        "    \n",
        "    while not (marker == 'X' or marker == '0'):\n",
        "        marker = input('Player 1: Do you want to be X or O? ').upper()\n",
        "        \n",
        "        if marker == 'X':\n",
        "            return ('X', '0')\n",
        "        \n",
        "        else:\n",
        "            return ('0', 'X')"
      ],
      "metadata": {
        "id": "x6B9RoYGLnTh"
      },
      "execution_count": 4,
      "outputs": []
    },
    {
      "cell_type": "code",
      "source": [
        "player_input()"
      ],
      "metadata": {
        "colab": {
          "base_uri": "https://localhost:8080/"
        },
        "id": "IoCiIIfcLnRJ",
        "outputId": "58521aab-3f22-40e9-e936-014c2298f424"
      },
      "execution_count": 5,
      "outputs": [
        {
          "name": "stdout",
          "output_type": "stream",
          "text": [
            "Player 1: Do you want to be X or O? 0\n"
          ]
        },
        {
          "output_type": "execute_result",
          "data": {
            "text/plain": [
              "('0', 'X')"
            ]
          },
          "metadata": {},
          "execution_count": 5
        }
      ]
    },
    {
      "cell_type": "code",
      "source": [
        "def place_marker(board, marker, position):\n",
        "    board[position] = marker"
      ],
      "metadata": {
        "id": "r-JTboBxLnOy"
      },
      "execution_count": 8,
      "outputs": []
    },
    {
      "cell_type": "code",
      "source": [
        "place_marker(test_board, '*', 8)\n",
        "display_board(test_board)"
      ],
      "metadata": {
        "colab": {
          "base_uri": "https://localhost:8080/"
        },
        "id": "eoQeAR9tLnML",
        "outputId": "57d723f7-ffab-4557-b4d0-36b837e70205"
      },
      "execution_count": 9,
      "outputs": [
        {
          "output_type": "stream",
          "name": "stdout",
          "text": [
            "   |   |\n",
            " 7 | * | 9\n",
            "   |   |\n",
            "-----------\n",
            "   |   |\n",
            " 4 | 5 | 6\n",
            "   |   |\n",
            "-----------\n",
            "   |   |\n",
            " 1 | 2 | 3\n",
            "   |   |\n"
          ]
        }
      ]
    },
    {
      "cell_type": "code",
      "source": [
        "def win_check(board, mark):\n",
        "    return ((board[7] == mark and board[8] == mark and board[9] == mark) or # accross the top(board[4] == mark and board[5] == mark and board[6] == mark) or # across the middle\n",
        "    (board[4] == mark and board[5] ==mark and board[6] == mark ) or\n",
        "    (board[1] == mark and board[2] == mark and board[3] == mark) or # across the bottom\n",
        "    (board[7] == mark and board[4] == mark and board[1] == mark) or # down the middle\n",
        "    (board[8] == mark and board[5] == mark and board[2] == mark) or #  down the middle\n",
        "    (board[9] == mark and board[6] == mark and board[3] == mark) or # down the right side\n",
        "    (board[7] == mark and board[5] == mark and board[3] == mark) or # diagonal\n",
        "    (board[9] == mark and board[5] == mark and board[1] == mark))  # diagonal"
      ],
      "metadata": {
        "id": "bP8pwKqzL9x_"
      },
      "execution_count": 10,
      "outputs": []
    },
    {
      "cell_type": "code",
      "source": [
        "win_check(test_board, '0')"
      ],
      "metadata": {
        "colab": {
          "base_uri": "https://localhost:8080/"
        },
        "id": "pg73ALRXL9vG",
        "outputId": "6642b15c-d5b8-4b09-e7cf-2bf746d39b56"
      },
      "execution_count": 11,
      "outputs": [
        {
          "output_type": "execute_result",
          "data": {
            "text/plain": [
              "False"
            ]
          },
          "metadata": {},
          "execution_count": 11
        }
      ]
    },
    {
      "cell_type": "code",
      "source": [
        "import random\n",
        "\n",
        "def choose_first():\n",
        "    if random.randint(0, 1) == 0:\n",
        "        return 'Player 2'\n",
        "    \n",
        "    else:\n",
        "        return 'Player 1'"
      ],
      "metadata": {
        "id": "0wuPvURLL9qL"
      },
      "execution_count": 12,
      "outputs": []
    },
    {
      "cell_type": "code",
      "source": [
        "def space_check(board, position):\n",
        "    return board[position] == ' '"
      ],
      "metadata": {
        "id": "xt0E6Bw8LnJQ"
      },
      "execution_count": 13,
      "outputs": []
    },
    {
      "cell_type": "code",
      "source": [
        "def full_board_check(board):\n",
        "    for i in range(1,10):\n",
        "        if space_check(board, i):\n",
        "            return False    \n",
        "    return True"
      ],
      "metadata": {
        "id": "fXfg6xkVM4Rd"
      },
      "execution_count": 14,
      "outputs": []
    },
    {
      "cell_type": "code",
      "source": [
        "def player_choice(board, turn):\n",
        "    position = 0\n",
        "    \n",
        "    while position not in [1,2,3,4,5,6,7,8,9] or not space_check(board, position):\n",
        "        if turn == 'Player 1':\n",
        "          print('Player 1 will choose.')\n",
        "        else:\n",
        "          print('Player 2 will choose.')\n",
        "          \n",
        "        position = int(input('Choose your next position : (1-9) '))\n",
        "        \n",
        "    return position"
      ],
      "metadata": {
        "id": "rH-a5ZWIM4O2"
      },
      "execution_count": 39,
      "outputs": []
    },
    {
      "cell_type": "code",
      "source": [
        "def reply():\n",
        "    return input('Do you want to play again ? Enter Yes or No: ').lower().startswith('y')"
      ],
      "metadata": {
        "id": "4h8KUxV2M4MO"
      },
      "execution_count": 16,
      "outputs": []
    },
    {
      "cell_type": "code",
      "source": [
        "pos_board  = ['#', '1', '2', '3', '4', '5', '6', '7', '8', '9']"
      ],
      "metadata": {
        "id": "Voc9MSJsTbpW"
      },
      "execution_count": 36,
      "outputs": []
    },
    {
      "cell_type": "code",
      "source": [
        "print('Welcome to LetsUpgrade Tic Tac Toe Game')\n",
        "while True:\n",
        "    fixed_display_board(pos_board)\n",
        "    # Reset the board\n",
        "    theBoard = [' '] * 10\n",
        "    player1_marker, player2_marker = player_input()\n",
        "    turn = choose_first()\n",
        "    print(turn + ' will go first')\n",
        "    \n",
        "    play_game = input('Are you ready to play ? Enter Yes or No: ')\n",
        "    if play_game.lower()[0] == 'y':\n",
        "        game_on = True\n",
        "    else:\n",
        "        game_on = False\n",
        "        break\n",
        "        \n",
        "    while game_on:\n",
        "        if turn == 'Player 1':\n",
        "            display_board(theBoard)\n",
        "            position = player_choice(theBoard, turn)\n",
        "            place_marker(theBoard, player1_marker, position)\n",
        "            \n",
        "            if win_check(theBoard, player1_marker):\n",
        "                display_board(theBoard)\n",
        "                \n",
        "                print('Congratulation! Player 1 has won the game!!!')\n",
        "                game_on = False\n",
        "                \n",
        "            else:\n",
        "                if full_board_check(theBoard):\n",
        "                    display_board(theBoard)\n",
        "                    print('The game is a draw!!!')\n",
        "                    break\n",
        "                else:\n",
        "                    turn = 'Player 2'\n",
        "        else:\n",
        "            display_board(theBoard)\n",
        "            position = player_choice(theBoard, turn)\n",
        "            place_marker(theBoard, player2_marker, position)\n",
        "                        \n",
        "            if win_check(theBoard, player2_marker):\n",
        "                display_board(theBoard)\n",
        "                print('Congratulation! Player 2 has won the game!!!')\n",
        "                game_on = False\n",
        "                \n",
        "            else:\n",
        "                if full_board_check(theBoard):\n",
        "                    display_board(theBoard)\n",
        "                    print('The game is a draw')\n",
        "                    break\n",
        "                else:\n",
        "                    turn = 'Player 1'\n",
        "                    \n",
        "                    \n",
        "                \n",
        "    if not reply():\n",
        "        break\n",
        "        \n",
        "    "
      ],
      "metadata": {
        "colab": {
          "base_uri": "https://localhost:8080/"
        },
        "id": "H9_hs2-1M_zO",
        "outputId": "e9b489dd-4879-4c72-eab8-10dbd5955148"
      },
      "execution_count": 40,
      "outputs": [
        {
          "name": "stdout",
          "output_type": "stream",
          "text": [
            "   |   |\n",
            " 7 | 8 | 9\n",
            "   |   |\n",
            "-----------\n",
            "   |   |\n",
            " 4 | 5 | 6\n",
            "   |   |\n",
            "-----------\n",
            "   |   |\n",
            " 1 | 2 | 3\n",
            "   |   |\n",
            "-----------\n",
            "-----------\n",
            "   |   |\n",
            " 0 |   | X\n",
            "   |   |\n",
            "-----------\n",
            "   |   |\n",
            " X | X |  \n",
            "   |   |\n",
            "-----------\n",
            "   |   |\n",
            " X | 0 | 0\n",
            "   |   |\n",
            "Congratulation! Player 1 has won the game!!!\n",
            "Do you want to play again ? Enter Yes or No: No\n"
          ]
        }
      ]
    },
    {
      "cell_type": "code",
      "source": [
        ""
      ],
      "metadata": {
        "id": "PnCfN6-1M_v-"
      },
      "execution_count": null,
      "outputs": []
    },
    {
      "cell_type": "code",
      "source": [
        ""
      ],
      "metadata": {
        "id": "WGMwR5wFM_sy"
      },
      "execution_count": null,
      "outputs": []
    },
    {
      "cell_type": "code",
      "source": [
        ""
      ],
      "metadata": {
        "id": "3_T2XvZ9M_p9"
      },
      "execution_count": null,
      "outputs": []
    },
    {
      "cell_type": "code",
      "source": [
        ""
      ],
      "metadata": {
        "id": "GD8CVSIGM4JV"
      },
      "execution_count": null,
      "outputs": []
    }
  ]
}