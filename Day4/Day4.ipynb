{
  "nbformat": 4,
  "nbformat_minor": 0,
  "metadata": {
    "colab": {
      "name": "Day5.ipynb",
      "provenance": []
    },
    "kernelspec": {
      "name": "python3",
      "display_name": "Python 3"
    },
    "language_info": {
      "name": "python"
    }
  },
  "cells": [
    {
      "cell_type": "markdown",
      "source": [
        "**Q1. Python program to print Highest Common Factor (HCF) of two numbers\n",
        "Example : Take values according to you**"
      ],
      "metadata": {
        "id": "4g-Zz23dqyXc"
      }
    },
    {
      "cell_type": "code",
      "source": [
        "def hcf(num1, num2):\n",
        "  lis = []\n",
        "  min = 0\n",
        "  if num1 > num2:\n",
        "    min = num2\n",
        "  else:\n",
        "    min = num1\n",
        "  for x in range(1, min+1, 1):\n",
        "    if num2 % x == 0 and num1 % x == 0:\n",
        "      lis.append(x)\n",
        "  return max(lis)"
      ],
      "metadata": {
        "id": "zn_kE7BEqt2T"
      },
      "execution_count": 26,
      "outputs": []
    },
    {
      "cell_type": "code",
      "source": [
        "hcf(17,89)"
      ],
      "metadata": {
        "colab": {
          "base_uri": "https://localhost:8080/"
        },
        "id": "rq8VlzWHqtz7",
        "outputId": "ed3e1ec4-491e-48cb-91ab-c0cd305d2f60"
      },
      "execution_count": 29,
      "outputs": [
        {
          "output_type": "execute_result",
          "data": {
            "text/plain": [
              "1"
            ]
          },
          "metadata": {},
          "execution_count": 29
        }
      ]
    },
    {
      "cell_type": "markdown",
      "source": [
        "**Q2. What will be the output of the following Python code?**"
      ],
      "metadata": {
        "id": "alSnRG0PslKO"
      }
    },
    {
      "cell_type": "markdown",
      "source": [
        "    i=0\n",
        "    def change(i):\n",
        "      i=i+1\n",
        "      return i\n",
        "    change(1)\n",
        "    print(i)"
      ],
      "metadata": {
        "id": "bLi39LYXs0vJ"
      }
    },
    {
      "cell_type": "markdown",
      "source": [
        "    a) 1\n",
        "    b) Nothing is displayed\n",
        "    c) 0\n",
        "    d) An exception is thrown"
      ],
      "metadata": {
        "id": "FL8X73pVsqQo"
      }
    },
    {
      "cell_type": "code",
      "source": [
        "i=0\n",
        "def change(i):\n",
        "  i=i+1\n",
        "  return i\n",
        "change(1)\n",
        "print(i)"
      ],
      "metadata": {
        "colab": {
          "base_uri": "https://localhost:8080/"
        },
        "id": "i4Fze_V6qtxg",
        "outputId": "ad09e2b0-554a-4ac2-d600-74ceacdd0f91"
      },
      "execution_count": 33,
      "outputs": [
        {
          "output_type": "stream",
          "name": "stdout",
          "text": [
            "0\n"
          ]
        }
      ]
    },
    {
      "cell_type": "markdown",
      "source": [
        "We are not storing the value of change(i). i is a global variable whose value is 0. So, we are getting 0"
      ],
      "metadata": {
        "id": "hE1B95LDtZwW"
      }
    },
    {
      "cell_type": "markdown",
      "source": [
        "**3. What will be the output of the following Python code?**\n"
      ],
      "metadata": {
        "id": "9VH6raZ_tlWN"
      }
    },
    {
      "cell_type": "markdown",
      "source": [
        "    def a(b):\n",
        "      b = b + [5]\n",
        "    c = [1, 2, 3, 4]\n",
        "    a(c)\n",
        "    print(len(c))"
      ],
      "metadata": {
        "id": "dhXFfkMFtrHz"
      }
    },
    {
      "cell_type": "code",
      "source": [
        "def a(b):\n",
        "  b = b + [5]\n",
        "c = [1, 2, 3, 4]\n",
        "a(c)\n",
        "print(len(c))"
      ],
      "metadata": {
        "colab": {
          "base_uri": "https://localhost:8080/"
        },
        "id": "VSvj-mVFqtu5",
        "outputId": "baed3466-5589-4355-cda2-8b748a3f6aed"
      },
      "execution_count": 34,
      "outputs": [
        {
          "output_type": "stream",
          "name": "stdout",
          "text": [
            "4\n"
          ]
        }
      ]
    },
    {
      "cell_type": "markdown",
      "source": [
        "we are only finding the value of length of c which is 4. So we get output as 4"
      ],
      "metadata": {
        "id": "ItfeimnAt9X6"
      }
    },
    {
      "cell_type": "markdown",
      "source": [
        "**4. What will be the output of the following Python code?**"
      ],
      "metadata": {
        "id": "zfqL9wAXuFf2"
      }
    },
    {
      "cell_type": "markdown",
      "source": [
        "    a=10\n",
        "    b=20\n",
        "    def change():\n",
        "      global b\n",
        "      a=45\n",
        "      b=56\n",
        "    change()\n",
        "    print(a)\n",
        "    print(b)"
      ],
      "metadata": {
        "id": "Qjk-tdhpuLCE"
      }
    },
    {
      "cell_type": "code",
      "source": [
        "a=10\n",
        "b=20\n",
        "def change():\n",
        "  global b\n",
        "  a=45\n",
        "  b=56\n",
        "change()\n",
        "print(a)\n",
        "print(b)"
      ],
      "metadata": {
        "colab": {
          "base_uri": "https://localhost:8080/"
        },
        "id": "2QyHU7CXqtsY",
        "outputId": "e68a93ec-6095-457c-fed0-72050822e2b2"
      },
      "execution_count": 35,
      "outputs": [
        {
          "output_type": "stream",
          "name": "stdout",
          "text": [
            "10\n",
            "56\n"
          ]
        }
      ]
    },
    {
      "cell_type": "markdown",
      "source": [
        "As a's global value is 10 and b's global value is 56 we get 10 and 56"
      ],
      "metadata": {
        "id": "prBqgOSeuVYQ"
      }
    },
    {
      "cell_type": "markdown",
      "source": [
        "**5. What will be the output of the following Python code?**"
      ],
      "metadata": {
        "id": "rfYvkRttudop"
      }
    },
    {
      "cell_type": "markdown",
      "source": [
        "    def change(i = 1, j = 2):\n",
        "      i = i + j\n",
        "      j = j + 1\n",
        "      print(i, j)\n",
        "    change(j = 1, i = 2)"
      ],
      "metadata": {
        "id": "xOnu3JuIufDq"
      }
    },
    {
      "cell_type": "code",
      "source": [
        "def change(i = 1, j = 2):\n",
        "  i = i + j\n",
        "  j = j + 1\n",
        "  print(i, j)\n",
        "change(j = 1, i = 2)"
      ],
      "metadata": {
        "colab": {
          "base_uri": "https://localhost:8080/"
        },
        "id": "SEiaTcXhqtpt",
        "outputId": "c74aa6c6-838a-4c1b-e544-c46d250537d6"
      },
      "execution_count": 37,
      "outputs": [
        {
          "output_type": "stream",
          "name": "stdout",
          "text": [
            "3 2\n"
          ]
        }
      ]
    },
    {
      "cell_type": "markdown",
      "source": [
        "initially we have j = 1 and i = 2\n",
        "then in function we have value changed for i to 2 and j to 1. then i = 2 + 1 and j = 1 + 1. So, we get 3 and 2"
      ],
      "metadata": {
        "id": "mo4wROjkuvrZ"
      }
    }
  ]
}