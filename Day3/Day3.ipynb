{
  "nbformat": 4,
  "nbformat_minor": 0,
  "metadata": {
    "colab": {
      "name": "Day3.ipynb",
      "provenance": []
    },
    "kernelspec": {
      "name": "python3",
      "display_name": "Python 3"
    },
    "language_info": {
      "name": "python"
    }
  },
  "cells": [
    {
      "cell_type": "markdown",
      "source": [
        "## **Assignment**"
      ],
      "metadata": {
        "id": "d1xpKxoblKeB"
      }
    },
    {
      "cell_type": "markdown",
      "source": [
        "1. Find the data type of a if a=9"
      ],
      "metadata": {
        "id": "DP7opa8zlIWL"
      }
    },
    {
      "cell_type": "code",
      "execution_count": 1,
      "metadata": {
        "colab": {
          "base_uri": "https://localhost:8080/"
        },
        "id": "mo4FxTcllEuP",
        "outputId": "61bf21dd-6fe0-43d4-ddb5-d9a576602982"
      },
      "outputs": [
        {
          "output_type": "stream",
          "name": "stdout",
          "text": [
            "<class 'int'>\n"
          ]
        }
      ],
      "source": [
        "a = 9\n",
        "print(type(a))"
      ]
    },
    {
      "cell_type": "markdown",
      "source": [
        "2. Find the data type of a if a=9.0"
      ],
      "metadata": {
        "id": "WOtz0-JElV0d"
      }
    },
    {
      "cell_type": "code",
      "source": [
        "a = 9.0\n",
        "print(type(a))"
      ],
      "metadata": {
        "colab": {
          "base_uri": "https://localhost:8080/"
        },
        "id": "8TciX-SglRWz",
        "outputId": "e10cbfbe-f0a9-4597-812b-87ec2d39a8a0"
      },
      "execution_count": 2,
      "outputs": [
        {
          "output_type": "stream",
          "name": "stdout",
          "text": [
            "<class 'float'>\n"
          ]
        }
      ]
    },
    {
      "cell_type": "markdown",
      "source": [
        "3. Find the data type of a if a='9.'"
      ],
      "metadata": {
        "id": "O1yA_aOXlesi"
      }
    },
    {
      "cell_type": "code",
      "source": [
        "a = '9.'\n",
        "print(type(a))"
      ],
      "metadata": {
        "colab": {
          "base_uri": "https://localhost:8080/"
        },
        "id": "BOMtZakxlZwc",
        "outputId": "5a82db15-1199-4f80-e5da-0d705989ae75"
      },
      "execution_count": 3,
      "outputs": [
        {
          "output_type": "stream",
          "name": "stdout",
          "text": [
            "<class 'str'>\n"
          ]
        }
      ]
    },
    {
      "cell_type": "markdown",
      "source": [
        "4. Find the data type of a if a=(9)"
      ],
      "metadata": {
        "id": "hHznv9_Fliu3"
      }
    },
    {
      "cell_type": "code",
      "source": [
        "a = (9)\n",
        "print(type(a))"
      ],
      "metadata": {
        "colab": {
          "base_uri": "https://localhost:8080/"
        },
        "id": "le-0nrdwlZtK",
        "outputId": "1dbbff2e-d51a-48af-f21e-2f3a54a94b64"
      },
      "execution_count": 4,
      "outputs": [
        {
          "output_type": "stream",
          "name": "stdout",
          "text": [
            "<class 'int'>\n"
          ]
        }
      ]
    },
    {
      "cell_type": "code",
      "source": [
        "a = (9,2)\n",
        "print(type(a))"
      ],
      "metadata": {
        "colab": {
          "base_uri": "https://localhost:8080/"
        },
        "id": "81bk7fK1loiT",
        "outputId": "1e69003b-4aaa-454d-a2e9-7ba3b8482b58"
      },
      "execution_count": 5,
      "outputs": [
        {
          "output_type": "stream",
          "name": "stdout",
          "text": [
            "<class 'tuple'>\n"
          ]
        }
      ]
    },
    {
      "cell_type": "markdown",
      "source": [
        "5. Find the data type of a if a=False"
      ],
      "metadata": {
        "id": "UFdy3CCylr8l"
      }
    },
    {
      "cell_type": "code",
      "source": [
        "a = False\n",
        "print(type(a))"
      ],
      "metadata": {
        "colab": {
          "base_uri": "https://localhost:8080/"
        },
        "id": "yTOgtZnVlZpf",
        "outputId": "ba2891cb-4d6d-439b-b7bc-04bfed8fd883"
      },
      "execution_count": 6,
      "outputs": [
        {
          "output_type": "stream",
          "name": "stdout",
          "text": [
            "<class 'bool'>\n"
          ]
        }
      ]
    },
    {
      "cell_type": "markdown",
      "source": [
        "6. Find the data type of a if a=[1,2,3]"
      ],
      "metadata": {
        "id": "vPxUn65ElxAy"
      }
    },
    {
      "cell_type": "code",
      "source": [
        "a = [1, 2, 3]\n",
        "print(type(a))"
      ],
      "metadata": {
        "colab": {
          "base_uri": "https://localhost:8080/"
        },
        "id": "jBLWROnblZm5",
        "outputId": "c9b0fb03-8172-4881-d7c8-b85e4c6d299d"
      },
      "execution_count": 7,
      "outputs": [
        {
          "output_type": "stream",
          "name": "stdout",
          "text": [
            "<class 'list'>\n"
          ]
        }
      ]
    },
    {
      "cell_type": "markdown",
      "source": [
        "7. Find the data type of a if a=(1,2,3)"
      ],
      "metadata": {
        "id": "283ZSnt2l37y"
      }
    },
    {
      "cell_type": "code",
      "source": [
        "a=(1,2,3)\n",
        "print(type(a))"
      ],
      "metadata": {
        "colab": {
          "base_uri": "https://localhost:8080/"
        },
        "id": "WExL3ik8lZc2",
        "outputId": "e5094010-a277-42cf-df72-a391f95c2131"
      },
      "execution_count": 8,
      "outputs": [
        {
          "output_type": "stream",
          "name": "stdout",
          "text": [
            "<class 'tuple'>\n"
          ]
        }
      ]
    },
    {
      "cell_type": "markdown",
      "source": [
        "8. Find the data type of a if a={'key': 9}"
      ],
      "metadata": {
        "id": "1Sno39npl_Wu"
      }
    },
    {
      "cell_type": "code",
      "source": [
        "a={'key': 9}\n",
        "print(type(a))"
      ],
      "metadata": {
        "colab": {
          "base_uri": "https://localhost:8080/"
        },
        "id": "PH4PMK4hl83_",
        "outputId": "ba2fb59a-b001-48a2-cc60-b3167fc08123"
      },
      "execution_count": 9,
      "outputs": [
        {
          "output_type": "stream",
          "name": "stdout",
          "text": [
            "<class 'dict'>\n"
          ]
        }
      ]
    },
    {
      "cell_type": "markdown",
      "source": [
        "9. Find the data type of a if a=1 + 9j"
      ],
      "metadata": {
        "id": "IMiQ8fxamFHI"
      }
    },
    {
      "cell_type": "code",
      "source": [
        "a=1 + 9j\n",
        "print(type(a))"
      ],
      "metadata": {
        "colab": {
          "base_uri": "https://localhost:8080/"
        },
        "id": "8dfbp3T5l81d",
        "outputId": "075dd828-e83b-43f4-905b-ce82f8b9d383"
      },
      "execution_count": 10,
      "outputs": [
        {
          "output_type": "stream",
          "name": "stdout",
          "text": [
            "<class 'complex'>\n"
          ]
        }
      ]
    },
    {
      "cell_type": "markdown",
      "source": [
        "10. Set a=1 and b=2. What data type is a/b?"
      ],
      "metadata": {
        "id": "ygmZE0DHmJC3"
      }
    },
    {
      "cell_type": "code",
      "source": [
        "a = 1\n",
        "b = 2\n",
        "print(type(a/b))"
      ],
      "metadata": {
        "colab": {
          "base_uri": "https://localhost:8080/"
        },
        "id": "JJFxk9e0l8yp",
        "outputId": "e5293337-4491-4113-a3e9-54fccc28f9a0"
      },
      "execution_count": 11,
      "outputs": [
        {
          "output_type": "stream",
          "name": "stdout",
          "text": [
            "<class 'float'>\n"
          ]
        }
      ]
    },
    {
      "cell_type": "markdown",
      "source": [
        "11. Create a dictionary numbers = {'one':1, 'two':2, 'three':3}. Pull out the number '2' by calling the key 'two'\n",
        "."
      ],
      "metadata": {
        "id": "I4sMIZSEmQ9i"
      }
    },
    {
      "cell_type": "code",
      "source": [
        "numbers = {'one':1, 'two':2, 'three':3}\n",
        "print(numbers['two'])"
      ],
      "metadata": {
        "colab": {
          "base_uri": "https://localhost:8080/"
        },
        "id": "GMyBTke8l8vk",
        "outputId": "a1598164-32c9-4357-ee15-ce6445e7a9ea"
      },
      "execution_count": 13,
      "outputs": [
        {
          "output_type": "stream",
          "name": "stdout",
          "text": [
            "2\n"
          ]
        }
      ]
    },
    {
      "cell_type": "markdown",
      "source": [
        "12. Create a tuple with the numbers 8, 9, and 10?"
      ],
      "metadata": {
        "id": "XEp3LSZqmdBu"
      }
    },
    {
      "cell_type": "code",
      "source": [
        "tup = (8, 9, 10)\n",
        "print(type(tup))"
      ],
      "metadata": {
        "colab": {
          "base_uri": "https://localhost:8080/"
        },
        "id": "s0W6mJXvmZmj",
        "outputId": "34406957-332a-4015-c812-714dee8b51be"
      },
      "execution_count": 14,
      "outputs": [
        {
          "output_type": "stream",
          "name": "stdout",
          "text": [
            "<class 'tuple'>\n"
          ]
        }
      ]
    },
    {
      "cell_type": "markdown",
      "source": [
        "1. Run the following lines of code and explain the error in your own words. Then rewrite the lines of code to run error free:\n",
        "d = {one:1, two:2, three:3} d[one]"
      ],
      "metadata": {
        "id": "m-dW5Sl7mjT5"
      }
    },
    {
      "cell_type": "code",
      "source": [
        "d = {one:1, two:2, three:3} \n",
        "d[one]"
      ],
      "metadata": {
        "colab": {
          "base_uri": "https://localhost:8080/",
          "height": 187
        },
        "id": "1HfGwn5RmZjl",
        "outputId": "e3a14bda-16f4-43d1-bbc3-2d5199df61f6"
      },
      "execution_count": 16,
      "outputs": [
        {
          "output_type": "error",
          "ename": "NameError",
          "evalue": "ignored",
          "traceback": [
            "\u001b[0;31m---------------------------------------------------------------------------\u001b[0m",
            "\u001b[0;31mNameError\u001b[0m                                 Traceback (most recent call last)",
            "\u001b[0;32m<ipython-input-16-9184d6a2de8c>\u001b[0m in \u001b[0;36m<module>\u001b[0;34m()\u001b[0m\n\u001b[0;32m----> 1\u001b[0;31m \u001b[0md\u001b[0m \u001b[0;34m=\u001b[0m \u001b[0;34m{\u001b[0m\u001b[0mone\u001b[0m\u001b[0;34m:\u001b[0m\u001b[0;36m1\u001b[0m\u001b[0;34m,\u001b[0m \u001b[0mtwo\u001b[0m\u001b[0;34m:\u001b[0m\u001b[0;36m2\u001b[0m\u001b[0;34m,\u001b[0m \u001b[0mthree\u001b[0m\u001b[0;34m:\u001b[0m\u001b[0;36m3\u001b[0m\u001b[0;34m}\u001b[0m\u001b[0;34m\u001b[0m\u001b[0;34m\u001b[0m\u001b[0m\n\u001b[0m\u001b[1;32m      2\u001b[0m \u001b[0md\u001b[0m\u001b[0;34m[\u001b[0m\u001b[0mone\u001b[0m\u001b[0;34m]\u001b[0m\u001b[0;34m\u001b[0m\u001b[0;34m\u001b[0m\u001b[0m\n",
            "\u001b[0;31mNameError\u001b[0m: name 'one' is not defined"
          ]
        }
      ]
    },
    {
      "cell_type": "markdown",
      "source": [
        "While declaring a dictionary if we are using string for keys then it should be withing quotes, else it will be error. If keys are number then we can ignore the quotes."
      ],
      "metadata": {
        "id": "LhkeEkwImwPS"
      }
    },
    {
      "cell_type": "code",
      "source": [
        "d = {'one':1, 'two':2, 'three':3} \n",
        "d['one']"
      ],
      "metadata": {
        "colab": {
          "base_uri": "https://localhost:8080/"
        },
        "id": "_kKx4AqLmZgk",
        "outputId": "59e66fbe-a15f-4c72-b2b9-31b052d2c5d8"
      },
      "execution_count": 17,
      "outputs": [
        {
          "output_type": "execute_result",
          "data": {
            "text/plain": [
              "1"
            ]
          },
          "metadata": {},
          "execution_count": 17
        }
      ]
    },
    {
      "cell_type": "markdown",
      "source": [
        "14 Run the following lines of code and explain the error in your own words. Then rewrite the lines of code to run error free:\n"
      ],
      "metadata": {
        "id": "A8Wi6owSnG-_"
      }
    },
    {
      "cell_type": "markdown",
      "source": [
        "    f = false \n",
        "    not f"
      ],
      "metadata": {
        "id": "TwwNTkiqnfGY"
      }
    },
    {
      "cell_type": "code",
      "source": [
        "f = false \n",
        "not f"
      ],
      "metadata": {
        "colab": {
          "base_uri": "https://localhost:8080/",
          "height": 187
        },
        "id": "l8IS2K2ynFsF",
        "outputId": "ed6f1495-08a9-46eb-ffb8-4ebadeef8182"
      },
      "execution_count": 21,
      "outputs": [
        {
          "output_type": "error",
          "ename": "NameError",
          "evalue": "ignored",
          "traceback": [
            "\u001b[0;31m---------------------------------------------------------------------------\u001b[0m",
            "\u001b[0;31mNameError\u001b[0m                                 Traceback (most recent call last)",
            "\u001b[0;32m<ipython-input-21-b384e4f7fb53>\u001b[0m in \u001b[0;36m<module>\u001b[0;34m()\u001b[0m\n\u001b[0;32m----> 1\u001b[0;31m \u001b[0mf\u001b[0m \u001b[0;34m=\u001b[0m \u001b[0mfalse\u001b[0m\u001b[0;34m\u001b[0m\u001b[0;34m\u001b[0m\u001b[0m\n\u001b[0m\u001b[1;32m      2\u001b[0m \u001b[0;32mnot\u001b[0m \u001b[0mf\u001b[0m\u001b[0;34m\u001b[0m\u001b[0;34m\u001b[0m\u001b[0m\n",
            "\u001b[0;31mNameError\u001b[0m: name 'false' is not defined"
          ]
        }
      ]
    },
    {
      "cell_type": "markdown",
      "source": [
        "Here we need to write \"False\" instead of \"false\" as it is a keyword and case sensitive."
      ],
      "metadata": {
        "id": "MAdIThqgnijk"
      }
    },
    {
      "cell_type": "code",
      "source": [
        "f = False \n",
        "not f"
      ],
      "metadata": {
        "colab": {
          "base_uri": "https://localhost:8080/"
        },
        "id": "NZjJnb3pnnb5",
        "outputId": "da3fea85-b668-4239-a740-5d98f3c6e2f6"
      },
      "execution_count": 22,
      "outputs": [
        {
          "output_type": "execute_result",
          "data": {
            "text/plain": [
              "True"
            ]
          },
          "metadata": {},
          "execution_count": 22
        }
      ]
    },
    {
      "cell_type": "markdown",
      "source": [
        "1. Run the following lines of code and explain the error in your own words. Then rewrite the lines of code to run error free:\n"
      ],
      "metadata": {
        "id": "JrbJitM-nWW5"
      }
    },
    {
      "cell_type": "markdown",
      "source": [
        "    lst = [1,3,5] \n",
        "    lst[3]"
      ],
      "metadata": {
        "id": "6zMEJddAnwIn"
      }
    },
    {
      "cell_type": "code",
      "source": [
        "lst = [1,3,5] \n",
        "lst[3]"
      ],
      "metadata": {
        "colab": {
          "base_uri": "https://localhost:8080/",
          "height": 187
        },
        "id": "lNmUIuYpnZWi",
        "outputId": "218521ac-45d4-4a4f-a7b4-4b3c1ee4a7f1"
      },
      "execution_count": 23,
      "outputs": [
        {
          "output_type": "error",
          "ename": "IndexError",
          "evalue": "ignored",
          "traceback": [
            "\u001b[0;31m---------------------------------------------------------------------------\u001b[0m",
            "\u001b[0;31mIndexError\u001b[0m                                Traceback (most recent call last)",
            "\u001b[0;32m<ipython-input-23-f010d3a83e71>\u001b[0m in \u001b[0;36m<module>\u001b[0;34m()\u001b[0m\n\u001b[1;32m      1\u001b[0m \u001b[0mlst\u001b[0m \u001b[0;34m=\u001b[0m \u001b[0;34m[\u001b[0m\u001b[0;36m1\u001b[0m\u001b[0;34m,\u001b[0m\u001b[0;36m3\u001b[0m\u001b[0;34m,\u001b[0m\u001b[0;36m5\u001b[0m\u001b[0;34m]\u001b[0m\u001b[0;34m\u001b[0m\u001b[0;34m\u001b[0m\u001b[0m\n\u001b[0;32m----> 2\u001b[0;31m \u001b[0mlst\u001b[0m\u001b[0;34m[\u001b[0m\u001b[0;36m3\u001b[0m\u001b[0;34m]\u001b[0m\u001b[0;34m\u001b[0m\u001b[0;34m\u001b[0m\u001b[0m\n\u001b[0m",
            "\u001b[0;31mIndexError\u001b[0m: list index out of range"
          ]
        }
      ]
    },
    {
      "cell_type": "markdown",
      "source": [
        "In coding index starts from 0, here there are 3 elements in the list but it starts from 0. It will go like 0, 1, 2. Which means that 2 is the last element but we are calling 3. So, it gives error."
      ],
      "metadata": {
        "id": "BbmGos8Mn0Gs"
      }
    },
    {
      "cell_type": "code",
      "source": [
        "lst = [1,3,5] \n",
        "print(lst[2])\n",
        "print(lst[-1])"
      ],
      "metadata": {
        "colab": {
          "base_uri": "https://localhost:8080/"
        },
        "id": "cyxW-53knFje",
        "outputId": "c9642440-f26f-4f8a-837e-2a966da97946"
      },
      "execution_count": 24,
      "outputs": [
        {
          "output_type": "stream",
          "name": "stdout",
          "text": [
            "5\n",
            "5\n"
          ]
        }
      ]
    },
    {
      "cell_type": "code",
      "source": [
        ""
      ],
      "metadata": {
        "id": "j6QIhQkGmZeB"
      },
      "execution_count": null,
      "outputs": []
    }
  ]
}