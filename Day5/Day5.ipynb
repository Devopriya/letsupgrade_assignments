{
  "nbformat": 4,
  "nbformat_minor": 0,
  "metadata": {
    "colab": {
      "name": "Day5.ipynb",
      "provenance": []
    },
    "kernelspec": {
      "name": "python3",
      "display_name": "Python 3"
    },
    "language_info": {
      "name": "python"
    }
  },
  "cells": [
    {
      "cell_type": "markdown",
      "source": [
        "For this challenge, create a bank account class that has two attributes:\n",
        "\n"
      ],
      "metadata": {
        "id": "AzrRhcr-om16"
      }
    },
    {
      "cell_type": "markdown",
      "source": [
        "    owner\n",
        "    balance\n",
        "    and two methods:\n",
        "    deposit\n",
        "    withdraw\n",
        "    As an added requirement, withdrawals may not exceed the available balance.\n",
        "    Instantiate your class, make several deposits and withdrawals, and test to make sure the account can't be overdrawn."
      ],
      "metadata": {
        "id": "LB9DHGleos2-"
      }
    },
    {
      "cell_type": "code",
      "execution_count": 20,
      "metadata": {
        "id": "Hl1qhSeboiX0"
      },
      "outputs": [],
      "source": [
        "class Account:\n",
        "  def __init__(self, owner, balance=0):\n",
        "    self.owner = owner\n",
        "    self.balance = balance\n",
        "  def __str__(self):\n",
        "    return \"Account owner: Pavan \\nAccount balance: 100\"\n",
        "  def deposit(self, dep_amt):\n",
        "    self.balance += dep_amt\n",
        "    print(\"Deposit Accepted\")\n",
        "  def withdraw(self, wd_amt):\n",
        "    try:\n",
        "      if self.balance >= wd_amt:\n",
        "        self.balance -= wd_amt\n",
        "        print(\"Withdrwal accepted\")\n",
        "      else:\n",
        "        print(\"Funds unavailable\")\n",
        "    except ValueError:\n",
        "      print(\"value error for fund\")"
      ]
    },
    {
      "cell_type": "markdown",
      "source": [
        "# 1. Instantiate the class"
      ],
      "metadata": {
        "id": "oFDH71JvpGAe"
      }
    },
    {
      "cell_type": "code",
      "source": [
        "acc = Account('Pavan')"
      ],
      "metadata": {
        "id": "d2xk2UrkpHhh"
      },
      "execution_count": 23,
      "outputs": []
    },
    {
      "cell_type": "markdown",
      "source": [
        "# 2. Print the object"
      ],
      "metadata": {
        "id": "D_y2donfpYGU"
      }
    },
    {
      "cell_type": "code",
      "source": [
        "print(acc)"
      ],
      "metadata": {
        "colab": {
          "base_uri": "https://localhost:8080/"
        },
        "id": "KXIymd1JpZCA",
        "outputId": "24db6e49-d255-4f41-a167-a43e0fe85d27"
      },
      "execution_count": 5,
      "outputs": [
        {
          "output_type": "stream",
          "name": "stdout",
          "text": [
            "Account owner: Pavan \n",
            "Account balance: 100\n"
          ]
        }
      ]
    },
    {
      "cell_type": "markdown",
      "source": [
        "# 3. Show the account owner attribute"
      ],
      "metadata": {
        "id": "jNimnQi2psYD"
      }
    },
    {
      "cell_type": "code",
      "source": [
        "print(\"The account owner's name is {}.\".format(acc.owner))"
      ],
      "metadata": {
        "colab": {
          "base_uri": "https://localhost:8080/"
        },
        "id": "x0aiXjv8prjr",
        "outputId": "48ab9324-46c8-442d-9348-f84ff8d6e22e"
      },
      "execution_count": 12,
      "outputs": [
        {
          "output_type": "stream",
          "name": "stdout",
          "text": [
            "The account owner's name is Pavan.\n"
          ]
        }
      ]
    },
    {
      "cell_type": "markdown",
      "source": [
        "# 4. Show the account balance attribute"
      ],
      "metadata": {
        "id": "WK6vAJDBqXtY"
      }
    },
    {
      "cell_type": "code",
      "source": [
        "print(\"The account owner's balance is ${}.\".format(acc.balance))"
      ],
      "metadata": {
        "colab": {
          "base_uri": "https://localhost:8080/"
        },
        "id": "Uro41C2Ip6oP",
        "outputId": "e88c9a94-df9d-4c3c-8d5b-9aee005b48d3"
      },
      "execution_count": 13,
      "outputs": [
        {
          "output_type": "stream",
          "name": "stdout",
          "text": [
            "The account owner's balance is $0.\n"
          ]
        }
      ]
    },
    {
      "cell_type": "markdown",
      "source": [
        "# 5. Make a series of deposits and withdrawals"
      ],
      "metadata": {
        "id": "VBAHwqZkqcFf"
      }
    },
    {
      "cell_type": "code",
      "source": [
        "acc.deposit(500)"
      ],
      "metadata": {
        "colab": {
          "base_uri": "https://localhost:8080/"
        },
        "id": "mGfGZzPrp6lc",
        "outputId": "9fb425dd-23d8-4d13-8078-3b26ec97424f"
      },
      "execution_count": 25,
      "outputs": [
        {
          "output_type": "stream",
          "name": "stdout",
          "text": [
            "Deposit Accepted\n"
          ]
        }
      ]
    },
    {
      "cell_type": "code",
      "source": [
        "acc.balance"
      ],
      "metadata": {
        "colab": {
          "base_uri": "https://localhost:8080/"
        },
        "id": "fjC_w2qaqldw",
        "outputId": "c0aaf21b-0ce4-4ac2-aa36-a6ce51a2ccba"
      },
      "execution_count": 26,
      "outputs": [
        {
          "output_type": "execute_result",
          "data": {
            "text/plain": [
              "500"
            ]
          },
          "metadata": {},
          "execution_count": 26
        }
      ]
    },
    {
      "cell_type": "code",
      "source": [
        "acc.deposit(100)"
      ],
      "metadata": {
        "colab": {
          "base_uri": "https://localhost:8080/"
        },
        "id": "XxI5DhGdp6i9",
        "outputId": "64dd624e-53ac-476f-8cfa-066ee4e124f3"
      },
      "execution_count": 27,
      "outputs": [
        {
          "output_type": "stream",
          "name": "stdout",
          "text": [
            "Deposit Accepted\n"
          ]
        }
      ]
    },
    {
      "cell_type": "code",
      "source": [
        "acc.balance"
      ],
      "metadata": {
        "colab": {
          "base_uri": "https://localhost:8080/"
        },
        "id": "wTEhVgZHp6f4",
        "outputId": "6e575391-184f-413e-da5a-1661a06fe470"
      },
      "execution_count": 28,
      "outputs": [
        {
          "output_type": "execute_result",
          "data": {
            "text/plain": [
              "600"
            ]
          },
          "metadata": {},
          "execution_count": 28
        }
      ]
    },
    {
      "cell_type": "code",
      "source": [
        "acc.withdraw(400)"
      ],
      "metadata": {
        "colab": {
          "base_uri": "https://localhost:8080/"
        },
        "id": "bcHdNxPhqrKS",
        "outputId": "7081137b-90b8-49e2-bfb0-d249bc73de19"
      },
      "execution_count": 29,
      "outputs": [
        {
          "output_type": "stream",
          "name": "stdout",
          "text": [
            "Withdrwal accepted\n"
          ]
        }
      ]
    },
    {
      "cell_type": "code",
      "source": [
        "acc.balance"
      ],
      "metadata": {
        "colab": {
          "base_uri": "https://localhost:8080/"
        },
        "id": "rUPI6jfgq_Sl",
        "outputId": "edc0c32d-c5bf-478d-b6da-1081c70d0943"
      },
      "execution_count": 30,
      "outputs": [
        {
          "output_type": "execute_result",
          "data": {
            "text/plain": [
              "200"
            ]
          },
          "metadata": {},
          "execution_count": 30
        }
      ]
    },
    {
      "cell_type": "code",
      "source": [
        "acc.deposit(100)"
      ],
      "metadata": {
        "colab": {
          "base_uri": "https://localhost:8080/"
        },
        "id": "txZ9QH98rBog",
        "outputId": "f986bf2d-ba8a-4f26-d1e0-1cc4575fadbb"
      },
      "execution_count": 31,
      "outputs": [
        {
          "output_type": "stream",
          "name": "stdout",
          "text": [
            "Deposit Accepted\n"
          ]
        }
      ]
    },
    {
      "cell_type": "code",
      "source": [
        "acc.balance"
      ],
      "metadata": {
        "colab": {
          "base_uri": "https://localhost:8080/"
        },
        "id": "eScjlJEzrDlo",
        "outputId": "7da7c080-1956-4bd1-80fc-14b89d591bad"
      },
      "execution_count": 32,
      "outputs": [
        {
          "output_type": "execute_result",
          "data": {
            "text/plain": [
              "300"
            ]
          },
          "metadata": {},
          "execution_count": 32
        }
      ]
    },
    {
      "cell_type": "markdown",
      "source": [
        "# 6. Make a withdrawal that exceeds the available balance"
      ],
      "metadata": {
        "id": "xPJ8FWLHrHLR"
      }
    },
    {
      "cell_type": "code",
      "source": [
        "acc.balance"
      ],
      "metadata": {
        "colab": {
          "base_uri": "https://localhost:8080/"
        },
        "id": "zk6PxdyBrIb-",
        "outputId": "4a232182-5dfe-48d0-dc69-874e8c45642b"
      },
      "execution_count": 33,
      "outputs": [
        {
          "output_type": "execute_result",
          "data": {
            "text/plain": [
              "300"
            ]
          },
          "metadata": {},
          "execution_count": 33
        }
      ]
    },
    {
      "cell_type": "code",
      "source": [
        "acc.withdraw(350)"
      ],
      "metadata": {
        "colab": {
          "base_uri": "https://localhost:8080/"
        },
        "id": "ORQAf0Z-rK0C",
        "outputId": "11eb23d4-73cb-4d15-e797-310f4850acdc"
      },
      "execution_count": 34,
      "outputs": [
        {
          "output_type": "stream",
          "name": "stdout",
          "text": [
            "Funds unavailable\n"
          ]
        }
      ]
    }
  ]
}