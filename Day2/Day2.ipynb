{
  "nbformat": 4,
  "nbformat_minor": 0,
  "metadata": {
    "colab": {
      "name": "Day2.ipynb",
      "provenance": []
    },
    "kernelspec": {
      "name": "python3",
      "display_name": "Python 3"
    },
    "language_info": {
      "name": "python"
    }
  },
  "cells": [
    {
      "cell_type": "markdown",
      "source": [
        "### **Assignment**"
      ],
      "metadata": {
        "id": "dQtaueexgWnT"
      }
    },
    {
      "cell_type": "markdown",
      "source": [
        "Q1. Name the keyword which helps in writing code involving conditions.**bold text**"
      ],
      "metadata": {
        "id": "8gs_HnPegJcw"
      }
    },
    {
      "cell_type": "markdown",
      "source": [
        "Answer -> if else"
      ],
      "metadata": {
        "id": "PLH_6RE5gQ24"
      }
    },
    {
      "cell_type": "code",
      "source": [
        "# Example - To know odd and even\n",
        "\n",
        "user_input = int(input())\n",
        "\n",
        "if user_input % 2 == 0:\n",
        "  print(\"Even Number\")\n",
        "else:\n",
        "  print(\"Odd Number\")"
      ],
      "metadata": {
        "colab": {
          "base_uri": "https://localhost:8080/"
        },
        "id": "m0ca10mbgJLp",
        "outputId": "eba91c17-5e35-4a64-e358-5728320dd1c9"
      },
      "execution_count": 5,
      "outputs": [
        {
          "output_type": "stream",
          "name": "stdout",
          "text": [
            "22\n",
            "Even Number\n"
          ]
        }
      ]
    },
    {
      "cell_type": "markdown",
      "source": [
        "Q2. Write the syntax of a simple if statement."
      ],
      "metadata": {
        "id": "mhMBsvWqgavn"
      }
    },
    {
      "cell_type": "markdown",
      "source": [
        "    if expression(boolean):\n",
        "      code to execute\n",
        "    elif expression(boolean):\n",
        "      code to execute\n",
        "    else:\n",
        "      code to execute"
      ],
      "metadata": {
        "id": "iIv3YKkbge9z"
      }
    },
    {
      "cell_type": "code",
      "source": [
        "# calculator problem\n",
        "num1, num2 = input('Enter two number seperated by space: ').split(' ')\n",
        "num1 = int(num1)\n",
        "num2 = int(num2)\n",
        "print('Enter the operator choice number from below\\n\\t1. Sum\\n\\t2. Difference\\n\\t3. Multiply\\n\\t4. Division')\n",
        "choice = input('Enter your choice: ')\n",
        "if choice == '1':\n",
        "  print(num1 + num2)\n",
        "elif choice == '2':\n",
        "  print(num1 - num2)\n",
        "elif choice == '3':\n",
        "  print(num1 * num2)\n",
        "elif choice == '4':\n",
        "  print(num1 / num2)"
      ],
      "metadata": {
        "colab": {
          "base_uri": "https://localhost:8080/"
        },
        "id": "qaNHNb3igJI2",
        "outputId": "c488f06f-31d4-4450-d889-40aad767afa6"
      },
      "execution_count": 6,
      "outputs": [
        {
          "output_type": "stream",
          "name": "stdout",
          "text": [
            "Enter two number seperated by space: 20 45\n",
            "Enter the operator choice number from below\n",
            "\t1. Sum\n",
            "\t2. Difference\n",
            "\t3. Multiply\n",
            "\t4. Division\n",
            "Enter your choice: 3\n",
            "900\n"
          ]
        }
      ]
    },
    {
      "cell_type": "markdown",
      "source": [
        "Q3. Write a program to check whether a person is eligible for voting or not. (accept age from user)"
      ],
      "metadata": {
        "id": "hn3qyZcCg7nG"
      }
    },
    {
      "cell_type": "code",
      "source": [
        "# voters in India have right to vote if they are 18+\n",
        "age = int(input())\n",
        "if age >= 18:\n",
        "  print('You can vote as you are 18+')\n",
        "else:\n",
        "  print(\"You can't vote as you are not even 18. You need to wait for {} year(s) more.\".format(18 - age))\n"
      ],
      "metadata": {
        "colab": {
          "base_uri": "https://localhost:8080/"
        },
        "id": "SBuMzaAMgJGO",
        "outputId": "29b2dbe7-ae95-4935-acef-8e88c9e6c3a6"
      },
      "execution_count": 7,
      "outputs": [
        {
          "output_type": "stream",
          "name": "stdout",
          "text": [
            "23\n",
            "You can vote as you are 18+\n"
          ]
        }
      ]
    },
    {
      "cell_type": "markdown",
      "source": [
        "Q4. What is the output of the given below program?\n"
      ],
      "metadata": {
        "id": "px8OlAXRhDO8"
      }
    },
    {
      "cell_type": "markdown",
      "source": [
        "    if 1 + 3 == 7:\n",
        "      print(\"Hello\")\n",
        "    else:\n",
        "      print(\"Know Program\")"
      ],
      "metadata": {
        "id": "0ROZfh9qhN9x"
      }
    },
    {
      "cell_type": "markdown",
      "source": [
        "# *Output*\n",
        "\n",
        "Know Program"
      ],
      "metadata": {
        "id": "prJouJ3yhPh-"
      }
    },
    {
      "cell_type": "code",
      "source": [
        "if 1 + 3 == 7:\n",
        "    print(\"Hello\")\n",
        "else:\n",
        "    print(\"Know Program\")\n"
      ],
      "metadata": {
        "colab": {
          "base_uri": "https://localhost:8080/"
        },
        "id": "nfKau-4ugJDr",
        "outputId": "88376c49-4b07-4c1d-b60a-c7f7e7d63ea5"
      },
      "execution_count": 8,
      "outputs": [
        {
          "output_type": "stream",
          "name": "stdout",
          "text": [
            "Know Program\n"
          ]
        }
      ]
    },
    {
      "cell_type": "markdown",
      "source": [
        "Q5. Write a program to check whether a number entered by user is even or odd."
      ],
      "metadata": {
        "id": "jYTDMqjVhXid"
      }
    },
    {
      "cell_type": "code",
      "source": [
        "user_input = int(input())\n",
        "\n",
        "if user_input % 2 == 0:\n",
        "  print(\"Even Number\")\n",
        "else:\n",
        "  print(\"Odd Number\")"
      ],
      "metadata": {
        "colab": {
          "base_uri": "https://localhost:8080/"
        },
        "id": "2-kiB5w9gJBC",
        "outputId": "893f0488-3e2b-43f6-cab6-72646ad4b4c9"
      },
      "execution_count": 9,
      "outputs": [
        {
          "output_type": "stream",
          "name": "stdout",
          "text": [
            "11\n",
            "Odd Number\n"
          ]
        }
      ]
    },
    {
      "cell_type": "markdown",
      "source": [
        "Q6. Python program to find the largest element among three Numbers ?"
      ],
      "metadata": {
        "id": "Q96uA_jRhdGy"
      }
    },
    {
      "cell_type": "markdown",
      "source": [
        "    num1 = 10 \n",
        "    num2 = 50 \n",
        "    num3 = 15"
      ],
      "metadata": {
        "id": "KGVLRKEyhjfg"
      }
    },
    {
      "cell_type": "code",
      "source": [
        "#num1 = int(input())\n",
        "#num2 = int(input())\n",
        "#num3 = int(input())\n",
        "\n",
        "num1 = 10\n",
        "num2 = 50\n",
        "num3 = 15\n",
        "\n",
        "if (num1 > num2) and (num1 > num3):\n",
        "  print(\"{} is the largest number\".format(num1))\n",
        "elif (num2 > num1) and (num2 > num3):\n",
        "  print(\"{} is the largest number\".format(num2))\n",
        "elif (num3 > num2) and (num1 < num3):\n",
        "  print(\"{} is the largest number\".format(num3))"
      ],
      "metadata": {
        "colab": {
          "base_uri": "https://localhost:8080/"
        },
        "id": "7_HBSzlNgI-P",
        "outputId": "9396687d-a96e-4543-dadf-318c0ba3b5cc"
      },
      "execution_count": 10,
      "outputs": [
        {
          "output_type": "stream",
          "name": "stdout",
          "text": [
            "50 is the largest number\n"
          ]
        }
      ]
    },
    {
      "cell_type": "markdown",
      "source": [
        "07. Write a program to accept a number from 1 to 12 and display name of the month and days in that month like 1 for January and number of days 31 and so on\n"
      ],
      "metadata": {
        "id": "OvafPzR6hopD"
      }
    },
    {
      "cell_type": "code",
      "source": [
        "month_entered = int(input())\n",
        "month_31 = [1, 3, 5, 7, 8, 10, 12]\n",
        "month_30 = [4, 6, 9, 11]\n",
        "\n",
        "if month_entered == 1:\n",
        "  print(\"January\")\n",
        "elif month_entered == 2:\n",
        "  print(\"Februrary\")\n",
        "  print(\"The month has 28/29 days.\")  \n",
        "elif month_entered == 3:\n",
        "  print(\"March\")\n",
        "elif month_entered == 4:\n",
        "  print(\"April\")\n",
        "elif month_entered == 5:\n",
        "  print(\"May\")\n",
        "elif month_entered == 6:\n",
        "  print(\"June\")\n",
        "elif month_entered == 7:\n",
        "  print(\"July\")\n",
        "elif month_entered == 8:\n",
        "  print(\"August\")\n",
        "elif month_entered == 9:\n",
        "  print(\"September\")\n",
        "elif month_entered == 10:\n",
        "  print(\"October\")\n",
        "elif month_entered == 11:\n",
        "  print(\"November\")\n",
        "elif month_entered == 12:\n",
        "  print(\"December\")\n",
        "else:\n",
        "  print(\"Please enter from 1-12.\")\n",
        "\n",
        "\n",
        "if month_entered in month_31:\n",
        "  print(\"The month has 31 days.\")\n",
        "elif month_entered in month_30:\n",
        "  print(\"The month has 30 days.\")"
      ],
      "metadata": {
        "colab": {
          "base_uri": "https://localhost:8080/"
        },
        "id": "G3QTBpA9gI7a",
        "outputId": "bb00812a-d11e-4726-b0a7-205189d12fc1"
      },
      "execution_count": 11,
      "outputs": [
        {
          "output_type": "stream",
          "name": "stdout",
          "text": [
            "7\n",
            "July\n",
            "The month has 31 days.\n"
          ]
        }
      ]
    },
    {
      "cell_type": "code",
      "source": [
        ""
      ],
      "metadata": {
        "id": "Q7SEFA4RgI4g"
      },
      "execution_count": null,
      "outputs": []
    },
    {
      "cell_type": "code",
      "source": [
        "month_entered = int(input())\n",
        "month_31 = [1, 3, 5, 7, 8, 10, 12]\n",
        "month_30 = [4, 6, 9, 11]\n",
        "\n",
        "if month_entered == 1:\n",
        "  print(\"January\")\n",
        "elif month_entered == 2:\n",
        "  print(\"Februrary\")\n",
        "  print(\"The month has 28/29 days.\")  \n",
        "elif month_entered == 3:\n",
        "  print(\"March\")\n",
        "elif month_entered == 4:\n",
        "  print(\"April\")\n",
        "elif month_entered == 5:\n",
        "  print(\"May\")\n",
        "elif month_entered == 6:\n",
        "  print(\"June\")\n",
        "elif month_entered == 7:\n",
        "  print(\"July\")\n",
        "elif month_entered == 8:\n",
        "  print(\"August\")\n",
        "elif month_entered == 9:\n",
        "  print(\"September\")\n",
        "elif month_entered == 10:\n",
        "  print(\"October\")\n",
        "elif month_entered == 11:\n",
        "  print(\"November\")\n",
        "elif month_entered == 12:\n",
        "  print(\"December\")\n",
        "else:\n",
        "  print(\"Please enter from 1-12.\")\n",
        "\n",
        "\n",
        "if month_entered in month_31:\n",
        "  print(\"The month has 31 days.\")\n",
        "elif month_entered in month_30:\n",
        "  print(\"The month has 30 days.\")\n"
      ],
      "metadata": {
        "colab": {
          "base_uri": "https://localhost:8080/"
        },
        "id": "yBQCUIqpcMA8",
        "outputId": "743eb982-9b5e-46ae-91f5-c34f8bc3c402"
      },
      "execution_count": 4,
      "outputs": [
        {
          "output_type": "stream",
          "name": "stdout",
          "text": [
            "2\n",
            "The month has 28/29 days.\n",
            "Februrary\n"
          ]
        }
      ]
    },
    {
      "cell_type": "code",
      "source": [
        ""
      ],
      "metadata": {
        "id": "hr5ZYv5Qf7PP"
      },
      "execution_count": null,
      "outputs": []
    },
    {
      "cell_type": "code",
      "source": [
        ""
      ],
      "metadata": {
        "id": "xXPw7LQocL-b"
      },
      "execution_count": null,
      "outputs": []
    },
    {
      "cell_type": "code",
      "source": [
        ""
      ],
      "metadata": {
        "id": "DAjuIh_WcL7u"
      },
      "execution_count": null,
      "outputs": []
    },
    {
      "cell_type": "code",
      "source": [
        ""
      ],
      "metadata": {
        "id": "9HyYiDgxcL5S"
      },
      "execution_count": null,
      "outputs": []
    },
    {
      "cell_type": "code",
      "source": [
        ""
      ],
      "metadata": {
        "id": "pyaiSJBscL15"
      },
      "execution_count": null,
      "outputs": []
    }
  ]
}